{
  "nbformat": 4,
  "nbformat_minor": 0,
  "metadata": {
    "colab": {
      "name": "Practice_6.ipynb",
      "provenance": [],
      "collapsed_sections": [
        "LyWSBl0DOxJ8",
        "5qzvb1n_va3D",
        "fRXqCrBOmwAX"
      ]
    },
    "kernelspec": {
      "name": "Python 3.6.8 64-bit",
      "display_name": "Python 3.6.8 64-bit",
      "metadata": {
        "interpreter": {
          "hash": "4c65b98e956c6ae24f8ae0bc56d1e465ff92310dbdec0a4bd6b48ffdf1441c98"
        }
      }
    }
  },
  "cells": [
    {
      "cell_type": "markdown",
      "metadata": {
        "id": "FMqboNwO4rVs"
      },
      "source": [
        "# **Курс \"Програмування на мові Python\"**\n",
        "\n",
        "##### Викладачі:\n",
        "##### Борисенко Павло Борисович\n",
        "##### Щьоголєв Максим Олегович\n"
      ]
    },
    {
      "cell_type": "markdown",
      "metadata": {
        "id": "A2T6MigL5Z06"
      },
      "source": [
        "## **Практичне зайняття №6**\n",
        "\n",
        "### Тема: \"Робота з рядками. Глибокі копії об'єктів.\""
      ]
    },
    {
      "source": [
        "### **Завдання 1 (2,5 бали)**\n",
        "\n",
        "Модель tf-pose-estimation (https://github.com/ildoonet/tf-pose-estimation) призначена для розпізнавання 18 ключових точок на тілі людини. Кожна точка розпізнається з певною достовірністю, що вимірюється у відсотках. Модель виводить результати у вигляді рядка:\n",
        "\n",
        "```\n",
        "[BodyPart:0-(0.55, 0.17) score=0.81 BodyPart:1-(0.49, 0.27) score=0.85 BodyPart:2-(0.41, 0.26) score=0.67 \n",
        "BodyPart:3-(0.33, 0.37) score=0.72 BodyPart:4-(0.36, 0.48) score=0.78 BodyPart:5-(0.58, 0.27) score=0.81 \n",
        "BodyPart:6-(0.65, 0.38) score=0.88 BodyPart:7-(0.62, 0.48) score=0.86 BodyPart:8-(0.43, 0.48) score=0.60 \n",
        "BodyPart:9-(0.43, 0.66) score=0.67 BodyPart:10-(0.53, 0.79) score=0.56 BodyPart:11-(0.53, 0.48) score=0.56 \n",
        "BodyPart:12-(0.59, 0.66) score=0.75 BodyPart:13-(0.49, 0.80) score=0.50 BodyPart:14-(0.54, 0.15) score=0.73 \n",
        "BodyPart:15-(0.56, 0.15) score=0.85 BodyPart:16-(0.48, 0.16) score=0.81 BodyPart:17-(0.83, 0.18) score=0.79]\n",
        "```\n",
        "\n",
        "Написати програму, яка створюватиме два списки, points та scores. В першому мають послідовно зберігатися координати точок, в другому - їхні достовірності (scores). В обох списках дані мають зберігатись у форматі float. Для поданого рядка списки матимуть вигляд:\n",
        "\n",
        "```\n",
        "points = [0.55,0.17,0.49,0.27,0.41,0.26,0.33,0.37,0.36,0.48,0.58,0.27,0.65,0.38,0.62,0.48,0.43,0.48,\n",
        "0.43,0.66,0.53,0.79,0.53,0.48,0.59,0.66,0.49,0.80,0.54,0.15,0.56,0.15,0.48,0.16,0.83,0.18]\n",
        "scores = [0.81,0.85,0.67,0.72,0.78,0.81,0.88,0.86,0.60,0.67,0.56,0.56,0.75,0.50,0.73,0.85,0.81,0.79]\n",
        "```\n",
        "\n",
        "1. Кількість розпізнаних точок може коливатись у межах від 0 до 18.\n",
        "\n",
        "2. Під час оцінювання коду враховуватиметься його оптимальність.\n",
        "\n",
        "3. У змінній pose_estimation зберігається тестовий рядок. Для перевірки роботи можуть використовуватись інші рядки такого ж формату."
      ],
      "cell_type": "markdown",
      "metadata": {}
    },
    {
      "cell_type": "code",
      "execution_count": 1,
      "metadata": {},
      "outputs": [
        {
          "output_type": "stream",
          "name": "stdout",
          "text": [
            "Coordinate  | Score\n0.55, 0.17  | 0.81 \n0.49, 0.27  | 0.85 \n0.41, 0.26  | 0.67 \n0.33, 0.37  | 0.72 \n0.36, 0.48  | 0.78 \n0.58, 0.27  | 0.81 \n0.65, 0.38  | 0.88 \n0.62, 0.48  | 0.86 \n0.43, 0.48  | 0.60 \n0.43, 0.66  | 0.67 \n0.53, 0.79  | 0.56 \n0.53, 0.48  | 0.56 \n0.59, 0.66  | 0.75 \n0.49, 0.80  | 0.50 \n0.54, 0.15  | 0.73 \n0.56, 0.15  | 0.85 \n0.48, 0.16  | 0.81 \n0.83, 0.18  | 0.79\n"
          ]
        }
      ],
      "source": [
        "pose_estimation = \"\"\"[BodyPart:0-(0.55, 0.17) score=0.81 BodyPart:1-(0.49, 0.27) score=0.85 BodyPart:2-(0.41, 0.26) score=0.67 BodyPart:3-(0.33, 0.37) score=0.72 BodyPart:4-(0.36, 0.48) score=0.78 BodyPart:5-(0.58, 0.27) score=0.81 BodyPart:6-(0.65, 0.38) score=0.88 BodyPart:7-(0.62, 0.48) score=0.86 BodyPart:8-(0.43, 0.48) score=0.60 BodyPart:9-(0.43, 0.66) score=0.67 BodyPart:10-(0.53, 0.79) score=0.56 BodyPart:11-(0.53, 0.48) score=0.56 BodyPart:12-(0.59, 0.66) score=0.75 BodyPart:13-(0.49, 0.80) score=0.50 BodyPart:14-(0.54, 0.15) score=0.73 BodyPart:15-(0.56, 0.15) score=0.85 BodyPart:16-(0.48, 0.16) score=0.81 BodyPart:17-(0.83, 0.18) score=0.79]\"\"\"\n",
        "for i in range(0, 18):\n",
        "    r = 'BodyPart:' + str(i) + '-'\n",
        "    pose_estimation = pose_estimation.replace('[', '').replace(r, '=').replace('(', '').replace(')',\n",
        "                                                                                                '').replace(\n",
        "        'score=', '=').replace(']', '')\n",
        "pose_estimation_1 = list(pose_estimation.split('='))\n",
        "pose_estimation_1.remove('')\n",
        "print('Coordinate', ' |' + ' Score')\n",
        "for k in range(0, 18):\n",
        "    for x in range(2 * k, 2 * k + 1):\n",
        "        try:\n",
        "            print(pose_estimation_1[x], '|', pose_estimation_1[x + 1])\n",
        "        except IndexError:\n",
        "            pass\n",
        "                                                                                                                                                                                                                                                                                                   "
      ]
    },
    {
      "source": [
        "### **Завдання 2 (0,5 бал)**\n",
        "\n",
        "Створіть рядок формату, що дозволить отримати дані з кортежу format_tuple та вивести рядок:\n",
        "\n",
        "*The price of **Brent** crude oil fell to $ **37.86** per barrel, setting a **3**-month anti-record. The current price is only **62.89**% of last year's **Brent** oil price on the same day (**01**.**11**).*\n",
        "\n",
        "У рядку формату мають бути 7 заповнювачів (слово Brent повторюється двічі). У методі format() мають бути звернення безпосередньо до елементів кортежу.\n",
        "\n",
        "1. Для округлення значень скористайтесь функцією round().\n",
        "\n",
        "2. Щоб додати певну кількість нулів перед числом, конвертуйте це число у рядок, а потім скористайтесь методом zfill() (https://www.w3schools.com/python/ref_string_zfill.asp)."
      ],
      "cell_type": "markdown",
      "metadata": {}
    },
    {
      "cell_type": "code",
      "execution_count": 3,
      "metadata": {},
      "outputs": [
        {
          "output_type": "stream",
          "name": "stdout",
          "text": [
            "The price of Brent crude oil fell to $37.86 per barrel, \nsetting a 3-month anti-record. The current price is only 62.89% of last \nyear's Brent oil price on the same day (01.11)\n"
          ]
        }
      ],
      "source": [
        "format_tuple = (37.863, 'Brent', 3, 62.887, 1, 11)\n",
        "format_string = \"\"\"The price of {oil_per_smth} crude oil fell to ${price} per barrel, \n",
        "setting a {time}-month anti-record. The current price is only {stats}% of last \n",
        "year's {oil_per_smth} oil price on the same day ({day}.{month})\"\"\"\n",
        "print(format_string.format(price=round(format_tuple[0], 2),\n",
        "                           oil_per_smth=format_tuple[1], time=format_tuple[2],\n",
        "                           stats=round(format_tuple[3], 2), day=str(format_tuple[4]).zfill(2),\n",
        "                           month=str(format_tuple[5]).zfill(2)))"
      ]
    },
    {
      "cell_type": "code",
      "execution_count": null,
      "metadata": {},
      "outputs": [],
      "source": []
    }
  ]
}
