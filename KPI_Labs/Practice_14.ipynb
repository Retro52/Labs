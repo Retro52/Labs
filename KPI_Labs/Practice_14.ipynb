{
  "nbformat": 4,
  "nbformat_minor": 0,
  "metadata": {
    "colab": {
      "name": "Practice_14_KM_01.ipynb",
      "provenance": [],
      "collapsed_sections": []
    },
    "kernelspec": {
      "name": "python3",
      "display_name": "Python 3.6.8 64-bit",
      "metadata": {
        "interpreter": {
          "hash": "4c65b98e956c6ae24f8ae0bc56d1e465ff92310dbdec0a4bd6b48ffdf1441c98"
        }
      }
    }
  },
  "cells": [
    {
      "cell_type": "markdown",
      "metadata": {
        "id": "FMqboNwO4rVs"
      },
      "source": [
        "# **Курс \"Програмування на мові Python\"**\n",
        "\n",
        "##### Викладачі:\n",
        "##### Борисенко Павло Борисович\n",
        "##### Щьоголєв Максим Олегович\n"
      ]
    },
    {
      "cell_type": "markdown",
      "metadata": {
        "id": "A2T6MigL5Z06"
      },
      "source": [
        "## **Практичне зайняття №14**\n",
        "\n",
        "### Тема: \"Робота з файлами\""
      ]
    },
    {
      "cell_type": "markdown",
      "metadata": {
        "id": "cfCdgK2zXm7e"
      },
      "source": [
        "### **Завдання 1 (1,5 бали)**\n",
        "\n",
        "У 1939 році друком вийшов роман американського письменика Ернеста Вінсента Райта \"Ґедсбі\". Особливу увагу публіки він здобув через те, що письменник жодного разу не використав у романі літеру \"e\" (роман складається з більше ніж 50,000 слів), яка є найбільш вживаною літерою в англійській мові.\n",
        "\n",
        "Порахуйте кількість входжень кожної літери у текст роману. Виведіть список літер англійського алфавіту, а також інформацію про те, скільки відсотків від усіх літер тексту складає кожна літера алфавіту.\n",
        "\n",
        "Зауваження:\n",
        "\n",
        "1. Програма має ігнорувати будь-які символи, окрім літер.\n",
        "\n",
        "2. Переведіть усі літери у верхній або у нижній регістр.\n",
        "\n",
        "3. Під час виведення відсортуйте літери у порядку зменшення їхнього відсотка. Літера \"e\" має стояти на останньому місці у цьому списку.\n",
        "\n",
        "4. Виведіть перші 5 та останні 5 літер відсортованого списку разом з відсотковими значеннями, що їм відповідають."
      ]
    },
    {
      "cell_type": "code",
      "metadata": {
        "tags": [],
        "id": "u4-fHJJ6U462"
      },
      "source": [
        "import string\n",
        "\n",
        "letters_list = string.ascii_lowercase\n",
        "letters_dict = {}\n",
        "\n",
        "ls = 0\n",
        "\n",
        "\n",
        "with open('gadsby.txt') as file:\n",
        "    text = file.read()\n",
        "    for letter in letters_list:\n",
        "        y = text.count(letter)\n",
        "        x = text.count(letter.upper())\n",
        "        ls += x + y\n",
        "\n",
        "    for letter in letters_list:\n",
        "        y = text.count(letter)\n",
        "        x = text.count(letter.upper())\n",
        "        letters_dict[letter] = x + y, round(100 * (x + y)/ls, 3)\n",
        "\n",
        "sorted_letters_dict = sorted(letters_dict.items(), key=lambda item: item[1], reverse=True)\n",
        "print(f'Letters sum: {ls}\\n')\n",
        "for el in sorted_letters_dict:\n",
        "    print(f'{el[0]} - Total: {el[1][0]}, In percentages: {el[1][1]}%')\n",
        "\n",
        "print('\\nTOP 5 by popularity\\n')\n",
        "for el in sorted_letters_dict[:5]:\n",
        "    print(f'{el[0]} - Total: {el[1][0]}, In percentages: {el[1][1]}%')\n",
        "\n",
        "print(\"\\nTOP 5 but it's Nolan's world\\n\")\n",
        "for el in sorted_letters_dict[-5:]:\n",
        "    print(f'{el[0]} - Total: {el[1][0]}, In percentages: {el[1][1]}%')\n"
      ],
      "execution_count": 9,
      "outputs": [
        {
          "output_type": "stream",
          "name": "stdout",
          "text": [
            "Letters sum: 216706\n\na - Total: 23607, In percentages: 10.894%\no - Total: 22475, In percentages: 10.371%\ni - Total: 19050, In percentages: 8.791%\nn - Total: 18553, In percentages: 8.561%\nt - Total: 18488, In percentages: 8.531%\ns - Total: 15074, In percentages: 6.956%\nl - Total: 11467, In percentages: 5.292%\nh - Total: 10653, In percentages: 4.916%\nr - Total: 10372, In percentages: 4.786%\nu - Total: 8953, In percentages: 4.131%\nd - Total: 8896, In percentages: 4.105%\ng - Total: 7735, In percentages: 3.569%\ny - Total: 6860, In percentages: 3.166%\nw - Total: 6039, In percentages: 2.787%\nc - Total: 5784, In percentages: 2.669%\nf - Total: 4657, In percentages: 2.149%\nb - Total: 4607, In percentages: 2.126%\nm - Total: 4527, In percentages: 2.089%\np - Total: 4134, In percentages: 1.908%\nk - Total: 2531, In percentages: 1.168%\nv - Total: 729, In percentages: 0.336%\ne - Total: 507, In percentages: 0.234%\nj - Total: 487, In percentages: 0.225%\nz - Total: 231, In percentages: 0.107%\nx - Total: 176, In percentages: 0.081%\nq - Total: 114, In percentages: 0.053%\n\nTOP 5 by popularity\n\na - Total: 23607, In percentages: 10.894%\no - Total: 22475, In percentages: 10.371%\ni - Total: 19050, In percentages: 8.791%\nn - Total: 18553, In percentages: 8.561%\nt - Total: 18488, In percentages: 8.531%\n\nTOP 5 but it's Nolan's world\n\ne - Total: 507, In percentages: 0.234%\nj - Total: 487, In percentages: 0.225%\nz - Total: 231, In percentages: 0.107%\nx - Total: 176, In percentages: 0.081%\nq - Total: 114, In percentages: 0.053%\n"
          ]
        }
      ]
    },
    {
      "cell_type": "markdown",
      "metadata": {
        "id": "A34oz70eU463"
      },
      "source": [
        "### **Завдання 2 (1,5 бали)**\n",
        "\n",
        "Створіть CSV-файл, що буде містити від 5 до 10 пісень (творів) вашого улюбленого музиканта. Назва файлу - ім'я музиканта (композитора) або назва гурту.\n",
        "\n",
        "1. Обов'язково додайте до файлу рядок з назвами двох колонок (Song, Year) або (Composition, Year).\n",
        "\n",
        "2. Після запису файлу роздрукуйте назву файлу та усі наявні у файлі рядки (включно із заголовками).\n",
        "\n",
        "3. Для запису та зчитування рядків скористайтесь функціями csv.DictWriter() та csv.DictReader()."
      ]
    },
    {
      "cell_type": "code",
      "metadata": {
        "id": "MEJIrG1GU463"
      },
      "source": [
        "import csv\n",
        "\n",
        "\n",
        "songs = [\n",
        "    ['Love Me Do', 1963],\n",
        "    [\"A Hard Day's Night\", 1964],\n",
        "    ['Tell Me Why', 1964],\n",
        "    ['Help!', 1965],\n",
        "    ['Yesterday', 1965],\n",
        "    ['Michelle', 1965],\n",
        "    ['What Goes On', 1965],\n",
        "    ['Girl', 1965],\n",
        "    ['Good Day Sunshine', 1966],\n",
        "    ['Yellow Submarine', 1966],\n",
        "]\n",
        "\n",
        "with open(\"Beatles.csv\", \"w\", newline=\"\") as file:\n",
        "    fields = [\"Song\", \"Year\"]\n",
        "    writer = csv.DictWriter(file, fieldnames=fields)\n",
        "    writer.writeheader()\n",
        "    for song in songs:\n",
        "        writer.writerow({\"Song\": song[0],\n",
        "                         \"Year\": song[1]})\n",
        "\n",
        "with open(\"Beatles.csv\", newline=\"\") as file:\n",
        "    reader = csv.DictReader(file)\n",
        "    print(' '.join(reader.fieldnames) + '\\n')\n",
        "    for row in reader:\n",
        "        print(row[\"Song\"], row[\"Year\"])"
      ],
      "execution_count": 10,
      "outputs": [
        {
          "output_type": "stream",
          "name": "stdout",
          "text": [
            "Song Year\n\nLove Me Do 1963\nA Hard Day's Night 1964\nTell Me Why 1964\nHelp! 1965\nYesterday 1965\nMichelle 1965\nWhat Goes On 1965\nGirl 1965\nGood Day Sunshine 1966\nYellow Submarine 1966\n"
          ]
        }
      ]
    },
    {
      "cell_type": "markdown",
      "metadata": {
        "id": "Jb-eSBsWU464"
      },
      "source": [
        "### **Завдання 3 (бонусне, 1 бал)**\n",
        "\n",
        "COCO Dataset - набір фотографій та анотацій до них. Його дуже часто використовують для тренування класифікаторів, призначених для розпізнавання об'єктів та визначення ключових точок на зображеннях.\n",
        "\n",
        "Завантажте файли з описом фотографій COCO Dataset за посиланням: http://images.cocodataset.org/annotations/image_info_test2017.zip\n",
        "\n",
        "1. Відкрийте файл image_info_test-dev2017.json. Інформація про фотографії з бази COCO міститься у полі \"images\". Інформація про категорії, на які розділені всі фотографії, міститься у полі \"categories\".\n",
        "\n",
        "2. Визначте кількість фотографій, інформацію про які можна знайти у цьому файлі (кількість елементів, що відповідають ключу \"images\").\n",
        "\n",
        "3. Визначте кількість наявних категорій (кількість елементів, що відповідають ключу \"categories\").\n",
        "\n",
        "4. Виведіть посилання на фотографію 000000000001.jpg (\"coco_url\"), висоту цієї фотографії (\"height\"), ширину (\"width\") та її ідентифікатор (\"id\").\n",
        "\n",
        "5. Опис структури JSON-файлу для набору фотографій COCO можна знайти за посиланням: https://cocodataset.org/#format-data\n",
        "\n",
        "6. Щоб перевірити правильність результатів, у VS Code встановіть розширення JSON та відкрийте файл image_info_test-dev2017.json. Розширення автоматично визначає кількість елементів у кожному полі."
      ]
    },
    {
      "cell_type": "code",
      "metadata": {
        "id": "74C6WKB_U464"
      },
      "source": [
        "import json\n",
        "\n",
        "#Воно працює, просто треба помістити в одну папку. З пайчармом працювало, тут глючить)\n",
        "\n",
        "with open(\"image_info_test-dev2017.json\", \"r\") as read_file:\n",
        "    data = json.load(read_file)\n",
        "    print(data.keys())\n",
        "    print(f\"Кількість фотографій: {len(data['images'])}\")\n",
        "    print(f\"Кількість категорій: {len(data['categories'])}\")\n",
        "\n",
        "    for photo in data['images']:\n",
        "        if photo[\"file_name\"] == '000000000001.jpg':\n",
        "            print(f'Посилання на фото 000000000001.jpg (coco_url): {photo[\"coco_url\"]}')\n",
        "            print(f'Висота: {photo[\"height\"]}')\n",
        "            print(f'Ширина: {photo[\"width\"]}')\n",
        "            print(f'Ідентифікатор: {photo[\"id\"]}')"
      ],
      "execution_count": 15,
      "outputs": [
        {
          "output_type": "error",
          "ename": "FileNotFoundError",
          "evalue": "[Errno 2] No such file or directory: 'image_info_test-dev2017.json'",
          "traceback": [
            "\u001b[1;31m---------------------------------------------------------------------------\u001b[0m",
            "\u001b[1;31mFileNotFoundError\u001b[0m                         Traceback (most recent call last)",
            "\u001b[1;32m<ipython-input-15-2b41d6bf894b>\u001b[0m in \u001b[0;36m<module>\u001b[1;34m\u001b[0m\n\u001b[0;32m      1\u001b[0m \u001b[1;32mimport\u001b[0m \u001b[0mjson\u001b[0m\u001b[1;33m\u001b[0m\u001b[1;33m\u001b[0m\u001b[0m\n\u001b[0;32m      2\u001b[0m \u001b[1;33m\u001b[0m\u001b[0m\n\u001b[1;32m----> 3\u001b[1;33m \u001b[1;32mwith\u001b[0m \u001b[0mopen\u001b[0m\u001b[1;33m(\u001b[0m\u001b[1;34m\"image_info_test-dev2017.json\"\u001b[0m\u001b[1;33m,\u001b[0m \u001b[1;34m\"r\"\u001b[0m\u001b[1;33m)\u001b[0m \u001b[1;32mas\u001b[0m \u001b[0mread_file\u001b[0m\u001b[1;33m:\u001b[0m\u001b[1;33m\u001b[0m\u001b[1;33m\u001b[0m\u001b[0m\n\u001b[0m\u001b[0;32m      4\u001b[0m     \u001b[0mdata\u001b[0m \u001b[1;33m=\u001b[0m \u001b[0mjson\u001b[0m\u001b[1;33m.\u001b[0m\u001b[0mload\u001b[0m\u001b[1;33m(\u001b[0m\u001b[0mread_file\u001b[0m\u001b[1;33m)\u001b[0m\u001b[1;33m\u001b[0m\u001b[1;33m\u001b[0m\u001b[0m\n\u001b[0;32m      5\u001b[0m     \u001b[0mprint\u001b[0m\u001b[1;33m(\u001b[0m\u001b[0mdata\u001b[0m\u001b[1;33m.\u001b[0m\u001b[0mkeys\u001b[0m\u001b[1;33m(\u001b[0m\u001b[1;33m)\u001b[0m\u001b[1;33m)\u001b[0m\u001b[1;33m\u001b[0m\u001b[1;33m\u001b[0m\u001b[0m\n",
            "\u001b[1;31mFileNotFoundError\u001b[0m: [Errno 2] No such file or directory: 'image_info_test-dev2017.json'"
          ]
        }
      ]
    },
    {
      "cell_type": "code",
      "execution_count": null,
      "metadata": {},
      "outputs": [],
      "source": []
    }
  ]
}
