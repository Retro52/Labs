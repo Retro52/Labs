{
  "nbformat": 4,
  "nbformat_minor": 0,
  "metadata": {
    "colab": {
      "name": "Practice_7_KM-01_.ipynb",
      "provenance": [],
      "collapsed_sections": []
    },
    "kernelspec": {
      "name": "python3",
      "display_name": "Python 3.6.8 64-bit",
      "metadata": {
        "interpreter": {
          "hash": "4c65b98e956c6ae24f8ae0bc56d1e465ff92310dbdec0a4bd6b48ffdf1441c98"
        }
      }
    }
  },
  "cells": [
    {
      "cell_type": "markdown",
      "metadata": {
        "id": "FMqboNwO4rVs"
      },
      "source": [
        "# **Курс \"Програмування на мові Python\"**\n",
        "\n",
        "##### Викладачі:\n",
        "##### Борисенко Павло Борисович\n",
        "##### Щьоголєв Максим Олегович\n"
      ]
    },
    {
      "cell_type": "markdown",
      "metadata": {
        "id": "A2T6MigL5Z06"
      },
      "source": [
        "## **Практичне зайняття №9**\n",
        "\n",
        "### Тема: \"Лямбда-функції. Функції вищих порядків\""
      ]
    },
    {
      "cell_type": "markdown",
      "metadata": {
        "id": "cfCdgK2zXm7e"
      },
      "source": [
        "### **Завдання 1 (1 бал)**\n",
        "\n",
        "Продавець роздрібного товару влаштовує розпродаж. Для всіх товарів знижка однакова - 60%. Щоб вивісити нові цінники, продавець хоче скласти таблицю, в якій для кожного товару буде підрахована його нова вартість та сума знижки.\n",
        "\n",
        "Написати програму, яка буде генерувати таку таблицю. Вартість одиниць товарів до розпродажу подано у списку products_list. \n",
        "\n",
        "1. Для підрахунку невідомих значень повинні використовуватись вбудовані функції вищих порядків.\n",
        "\n",
        "2. Вартість з урахуванням знижки та суми знижок для кожного товару повинні зберігатись у двох окремих списках. Порядок товарів у нових списках повинен бути такий самий, як і в списку products_list.\n",
        "\n",
        "3. Кожне підраховане числове значення має бути округлене до сотих.\n",
        "\n",
        "4. Дані повинні виводитись у вигляді:\n",
        "\n",
        "**Discount table:**\n",
        "\n",
        "**29.25 11.7 17.55**\n",
        "\n",
        "**48.99 19.6 29.39**\n",
        "\n",
        "**...**\n",
        "\n",
        "\n",
        "products_list = [[29.25, 48.99, 99.98, 124.65, 214.30, 543.90, 799.85]]\n"
      ]
    },
    {
      "cell_type": "code",
      "metadata": {
        "id": "ifNX2M7LXm7f"
      },
      "source": [
        "products_list = [29.25, 48.99, 99.98, 124.65, 214.30, 543.90, 799.85]\n",
        "\n",
        "discount = 0.6\n",
        "\n",
        "delta_price = list(map(lambda x: round(x * discount, 2), products_list))\n",
        "\n",
        "price_after_discount = list(map(lambda x, y: x - y, products_list, delta_price))\n",
        "\n",
        "print(\"Discount table:\")\n",
        "\n",
        "for idx in range(0, len(products_list)):\n",
        "    print(products_list[idx], price_after_discount[idx], delta_price[idx])"
      ],
      "execution_count": 3,
      "outputs": [
        {
          "output_type": "stream",
          "name": "stdout",
          "text": [
            "Discount table:\n29.25 11.7 17.55\n48.99 19.6 29.39\n99.98 39.99 59.99\n124.65 49.86 74.79\n214.3 85.72 128.58\n543.9 217.56 326.34\n799.85 319.94 479.91\n"
          ]
        }
      ]
    },
    {
      "source": [
        "### **Завдання 2 (2 бали)**\n",
        "\n",
        "Зазвичай рік має 365 днів. Однак у високосні роки додається ще один день - 29 лютого. Правила визначення високосного року такі:\n",
        "\n",
        "- Будь-який рік, що ділиться на 400 - високосний.\n",
        "\n",
        "- З тих років, що залишились, будь-який рік, що ділиться на 100 - **не** високосний.\n",
        "\n",
        "- З тих років, що залишились, будь-який рік, що ділиться на 4 - високосний.\n",
        "\n",
        "- Усі інші роки, що залишились - **не** високосні.\n",
        "\n",
        "1) Створіть функцію, в якій за допомогою вбудованих функцій вищих порядків будуть визначатися високосні роки серед перелічених років у списку years. Створена функція має повертати список високосних років.\n",
        "\n",
        "2) Створіть функцію вищих порядків, яка прийматиме на вхід попередню функцію та визначатиме кількість днів у місяці. Також функція повинна приймати на вхід ще 2 параметри: ціле число від 1 до 12 (місяць) та рік, як ціле чотирицифрове число. Ці значення корисувач має вводити з клавіатури. Перевірку введених даних слід виконувати поза межами функцій."
      ],
      "cell_type": "markdown",
      "metadata": {}
    },
    {
      "cell_type": "code",
      "execution_count": 4,
      "metadata": {
        "tags": []
      },
      "outputs": [
        {
          "output_type": "stream",
          "name": "stdout",
          "text": [
            "Days in this month:  31\n"
          ]
        }
      ],
      "source": [
        "import numpy as np\n",
        "\n",
        "years = np.arange(1920, 2020+1, 1)\n",
        "\n",
        "\n",
        "def leap_years(list_of_years):\n",
        "    return list(filter(lambda x: x % 400 == 0 or (x % 4 == 0 and x % 100 != 0), list_of_years))\n",
        "\n",
        "\n",
        "def calendar(is_leap, y, m):\n",
        "    days_in_every_month = [31, 28, 31, 30, 31, 30, 31, 31, 30, 31, 30, 31]\n",
        "    days_in_month = days_in_every_month[m - 1]\n",
        "    if y in is_leap(years) and m == 2:\n",
        "        days_in_month += 1\n",
        "    return days_in_month\n",
        "\n",
        "\n",
        "while True:\n",
        "    month = input('Enter month')\n",
        "    try:\n",
        "        month = int(month)\n",
        "        if month not in range(1, 13):\n",
        "            raise Warning\n",
        "        break\n",
        "    except ValueError:\n",
        "        print('Only integers are allowed')\n",
        "    except Warning:\n",
        "        print('Month should be in range from 1 to 12')\n",
        "\n",
        "while True:\n",
        "    year = input('Enter year')\n",
        "    try:\n",
        "        year = int(year)\n",
        "        if year not in years:\n",
        "            raise Warning\n",
        "        break\n",
        "    except ValueError:\n",
        "        print('Only integers are allowed')\n",
        "    except Warning:\n",
        "        print('Year should be in range from 1920 to 2020')\n",
        "\n",
        "print('Days in this month:', calendar(leap_years, year, month))"
      ]
    },
    {
      "cell_type": "code",
      "execution_count": null,
      "metadata": {},
      "outputs": [],
      "source": []
    }
  ]
}
