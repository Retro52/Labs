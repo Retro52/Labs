{
  "nbformat": 4,
  "nbformat_minor": 0,
  "metadata": {
    "colab": {
      "name": "Practice_7_KM-01_.ipynb",
      "provenance": [],
      "collapsed_sections": []
    },
    "kernelspec": {
      "name": "python3",
      "display_name": "Python 3.6.8 64-bit",
      "metadata": {
        "interpreter": {
          "hash": "4c65b98e956c6ae24f8ae0bc56d1e465ff92310dbdec0a4bd6b48ffdf1441c98"
        }
      }
    }
  },
  "cells": [
    {
      "cell_type": "markdown",
      "metadata": {
        "id": "FMqboNwO4rVs"
      },
      "source": [
        "# **Курс \"Програмування на мові Python\"**\n",
        "\n",
        "##### Викладачі:\n",
        "##### Борисенко Павло Борисович\n",
        "##### Щьоголєв Максим Олегович\n"
      ]
    },
    {
      "cell_type": "markdown",
      "metadata": {
        "id": "A2T6MigL5Z06"
      },
      "source": [
        "## **Практичне зайняття №8**\n",
        "\n",
        "### Тема: \"Робота з функціями. Локальні та глобальні змінні\""
      ]
    },
    {
      "cell_type": "markdown",
      "metadata": {
        "id": "cfCdgK2zXm7e"
      },
      "source": [
        "### **Завдання 1 (3 бали)**\n",
        "\n",
        "**Підрахувати визначник матриці, використовуючи перестановки та символ Леві-Чивіти.**\n",
        "\n",
        "Функція random_matrix() призначена для створення квадратної матриці випадкових чисел. Її змінювати непотрібно.\n",
        "\n",
        "Приклад використання методу permutations() для створення списку перестановок також подається у комірці з кодом.\n",
        "\n",
        "1) Створити 3 функції: функцію створення списку перестановок, функцію підрахунку добутків та функцію підрахунку загальної суми.\n",
        "\n",
        "2) Кожна функція має супроводжуватись рядком документації, що буде коротко описувати її призначення.\n",
        "\n",
        "3) Розмірність квадратної матриці має вводитись користувачем з клавіатури. Підрахунки виконувати лише в тому разі, якщо користувач введе ціле додатне число.\n",
        "\n",
        "4) Загальний результат повинен підраховуватись за допомогою композиції функцій.\n",
        "\n",
        "За бажання можна перевірити правильність роботи програми за допомогою функції np.linalg.det(a)."
      ]
    },
    {
      "cell_type": "code",
      "metadata": {
        "id": "ifNX2M7LXm7f"
      },
      "source": [
        "from __future__ import print_function\n",
        "\n",
        "import itertools\n",
        "\n",
        "import numpy as np\n",
        "\n",
        "#\n",
        "while True:\n",
        "    try:\n",
        "        a = int(input('Enter matrix size (n): '))\n",
        "        if a > 0:\n",
        "            break\n",
        "    except ValueError:\n",
        "        print('Wrong input, only integers are allowed')\n",
        "        pass\n",
        "\n",
        "\n",
        "def random_matrix(dim):\n",
        "    \"\"\"\n",
        "    The function generates dim x dim array of integers\n",
        "    between 0 and 10.\n",
        "    \"\"\"\n",
        "    matrix = np.random.randint(10, size=(dim, dim))\n",
        "    return matrix\n",
        "\n",
        "\n",
        "# Перша версія, але оскільки ми класи не вчили, як і й ООП, та й загалом я це частково з стак оверфлоу взяв тому не усе розумію,\n",
        "# просто як варіант як теж можна було зробити\n",
        "# Але це не чесно, тому я її просто залишив мб на додатковий бал чи що\n",
        "\n",
        "# x = random_matrix(a)\n",
        "#\n",
        "#\n",
        "# class Array(object):\n",
        "#     def __init__(self):\n",
        "#         self.shape = []\n",
        "#         self.data = None\n",
        "#\n",
        "#\n",
        "# def array(data):\n",
        "#     array = Array()\n",
        "#     array.data = data\n",
        "#     array.shape = list(array.shape)\n",
        "#     array.shape.append(len(data))\n",
        "#     return array\n",
        "#\n",
        "#\n",
        "# def det(mat):\n",
        "#     mat = array(mat)\n",
        "#     n = mat.shape[0]\n",
        "#     total2 = 0.0\n",
        "#     for perm in itertools.permutations(range(n)):\n",
        "#         total1 = 1.0\n",
        "#         for i, j in zip(range(n), perm):\n",
        "#             total1 *= mat.data[i][j]\n",
        "#         total2 += perm_parity(list(perm)) * total1\n",
        "#     return total2\n",
        "#\n",
        "#\n",
        "# def perm_parity(lst):\n",
        "#     parity = 1\n",
        "#     for i in range(0, len(lst) - 1):\n",
        "#         if lst[i] != i:\n",
        "#             parity *= -1\n",
        "#             mn = min(range(i, len(lst)))\n",
        "#             lst[i], lst[mn] = lst[mn], lst[i]\n",
        "#             # print('lst[i]: ', lst[i])\n",
        "#             # print('lst[mn]: ', lst[mn])\n",
        "#             # print('Min shit: ', min(range(i, len(lst))))\n",
        "#             # print('Parity: ', parity)\n",
        "#     return parity\n",
        "#\n",
        "#\n",
        "# print(x)\n",
        "# print(det(x))\n",
        "matrix = random_matrix(a)\n",
        "\n",
        "\n",
        "# Ця функція формує список з парами зі значень згенерованої матриці\n",
        "def perm(array):\n",
        "    return list(itertools.permutations([idx for idx in range(0, array)], array))\n",
        "\n",
        "# Ця функція сумує усі значення отримані у попередній функціїї, саме і знаходячи детермінант\n",
        "def sum_up(multiplys):\n",
        "    summ = 0\n",
        "    for x in multiplys:\n",
        "        summ += x\n",
        "    return summ\n",
        "\n",
        "#Мало не забув - ця пара формує з отриманих \"пар - бо не зовсім пари, там більше ніж 2 елементи\" числа перемножуючи їх та ще множачи на -1 у степені, який дорівнює кількості \"неправильно\" роставлених чиесл у цих парах \n",
        "def det(permutations, matrix, dim):\n",
        "    igrex = []\n",
        "    for permutation in permutations:\n",
        "        multiplied = 1\n",
        "        for i in range(0, dim):\n",
        "            multiplied = matrix[i][permutation[i]] * multiplied\n",
        "        inv_num = 0\n",
        "        for i in range(0, dim - 1):\n",
        "            for j in range(i+1, dim):\n",
        "                if permutation[i] > permutation[j]:\n",
        "                    inv_num += 1\n",
        "        multiplied = np.power(-1, inv_num) * multiplied\n",
        "        igrex.append(multiplied)\n",
        "    return igrex\n",
        "\n",
        "\n",
        "\n",
        "result = sum_up(det(perm(a), matrix, a))\n",
        "\n",
        "print(result)\n"
      ],
      "execution_count": 2,
      "outputs": [
        {
          "output_type": "stream",
          "name": "stdout",
          "text": [
            "-247\n"
          ]
        }
      ]
    },
    {
      "cell_type": "code",
      "execution_count": null,
      "metadata": {},
      "outputs": [],
      "source": []
    }
  ]
}
